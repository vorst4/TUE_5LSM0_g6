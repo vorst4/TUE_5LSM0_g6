{
  "nbformat": 4,
  "nbformat_minor": 0,
  "metadata": {
    "colab": {
      "name": "Untitled0.ipynb",
      "provenance": [],
      "collapsed_sections": [],
      "authorship_tag": "ABX9TyNYHTuNX+zpW3+VEHt4J5MX",
      "include_colab_link": true
    },
    "kernelspec": {
      "name": "python3",
      "display_name": "Python 3"
    }
  },
  "cells": [
    {
      "cell_type": "markdown",
      "metadata": {
        "id": "view-in-github",
        "colab_type": "text"
      },
      "source": [
        "<a href=\"https://colab.research.google.com/github/vorst4/TUE-5LSM0-g6/blob/master/Untitled0.ipynb\" target=\"_parent\"><img src=\"https://colab.research.google.com/assets/colab-badge.svg\" alt=\"Open In Colab\"/></a>"
      ]
    },
    {
      "cell_type": "code",
      "metadata": {
        "id": "hT3XfdqLNl97",
        "colab_type": "code",
        "colab": {
          "base_uri": "https://localhost:8080/",
          "height": 201
        },
        "outputId": "8eb1b552-9592-4258-9daf-fa11eaced693"
      },
      "source": [
        "\n",
        "import sys\n",
        "import os\n",
        "import time\n",
        "import numpy as np\n",
        "import matplotlib.pyplot as plt\n",
        "import torch\n",
        "import torch.nn as nn\n",
        "import torch.optim as optim\n",
        "import torchvision.datasets as dset\n",
        "import torchvision.transforms as T\n",
        "import torch.nn.functional as F\n",
        "from torch.utils.data import DataLoader\n",
        "from torch.utils.data import sampler\n",
        "from google.colab import drive\n",
        "from glob import glob\n",
        "\n",
        "# # mount google drive & add project folder to path\n",
        "# from google.colab import drive\n",
        "# drive.mount('/content/drive')\n",
        "sys.path.append('/content/drive/My Drive/5LSM0-final-assignment')\n",
        "\n",
        "# import custom functions\n",
        "import UtilityFunctions as U\n",
        "\n",
        "# !git clone https://github.com/vorst4/TUE-5LSM0-g6.git\n",
        "\n",
        "%cd /content/TUE-5LSM0-g6/\n",
        "!git config --global user.name 'Dennis'\n",
        "!git config --global user.email 'dennis@example.com'\n",
        "!git add .\n",
        "!git commit\n",
        "!git push\n",
        "!ls -1\n",
        "\n",
        "\n"
      ],
      "execution_count": 41,
      "outputs": [
        {
          "output_type": "stream",
          "text": [
            "/content/TUE-5LSM0-g6\n",
            "hint: Waiting for your editor to close the file... error: unable to start editor 'editor'\n",
            "Please supply the message using either -m or -F option.\n",
            "fatal: could not read Password for 'https://vorst4@github.com': No such device or address\n",
            "dataloaders.py\n",
            "download_and_organize.py\n",
            "LICENSE\n",
            "resnet18.py\n",
            "train.py\n",
            "visualize.py\n"
          ],
          "name": "stdout"
        }
      ]
    }
  ]
}